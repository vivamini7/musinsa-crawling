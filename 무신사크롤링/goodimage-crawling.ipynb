{
 "cells": [
  {
   "cell_type": "markdown",
   "metadata": {},
   "source": [
    "<h2>Install 시작!!!"
   ]
  },
  {
   "cell_type": "code",
   "execution_count": 1,
   "metadata": {},
   "outputs": [
    {
     "name": "stdout",
     "output_type": "stream",
     "text": [
      "Requirement already satisfied: selenium in c:\\users\\jrnee\\appdata\\local\\packages\\pythonsoftwarefoundation.python.3.11_qbz5n2kfra8p0\\localcache\\local-packages\\python311\\site-packages (4.25.0)\n",
      "Requirement already satisfied: beautifulsoup4 in c:\\users\\jrnee\\appdata\\local\\packages\\pythonsoftwarefoundation.python.3.11_qbz5n2kfra8p0\\localcache\\local-packages\\python311\\site-packages (4.12.3)\n",
      "Requirement already satisfied: requests in c:\\users\\jrnee\\appdata\\local\\packages\\pythonsoftwarefoundation.python.3.11_qbz5n2kfra8p0\\localcache\\local-packages\\python311\\site-packages (2.31.0)\n",
      "Requirement already satisfied: webdriver-manager in c:\\users\\jrnee\\appdata\\local\\packages\\pythonsoftwarefoundation.python.3.11_qbz5n2kfra8p0\\localcache\\local-packages\\python311\\site-packages (4.0.2)\n",
      "Requirement already satisfied: urllib3<3,>=1.26 in c:\\users\\jrnee\\appdata\\local\\packages\\pythonsoftwarefoundation.python.3.11_qbz5n2kfra8p0\\localcache\\local-packages\\python311\\site-packages (from urllib3[socks]<3,>=1.26->selenium) (2.2.2)\n",
      "Requirement already satisfied: trio~=0.17 in c:\\users\\jrnee\\appdata\\local\\packages\\pythonsoftwarefoundation.python.3.11_qbz5n2kfra8p0\\localcache\\local-packages\\python311\\site-packages (from selenium) (0.26.2)\n",
      "Requirement already satisfied: trio-websocket~=0.9 in c:\\users\\jrnee\\appdata\\local\\packages\\pythonsoftwarefoundation.python.3.11_qbz5n2kfra8p0\\localcache\\local-packages\\python311\\site-packages (from selenium) (0.11.1)\n",
      "Requirement already satisfied: certifi>=2021.10.8 in c:\\users\\jrnee\\appdata\\local\\packages\\pythonsoftwarefoundation.python.3.11_qbz5n2kfra8p0\\localcache\\local-packages\\python311\\site-packages (from selenium) (2024.2.2)\n",
      "Requirement already satisfied: typing_extensions~=4.9 in c:\\users\\jrnee\\appdata\\local\\packages\\pythonsoftwarefoundation.python.3.11_qbz5n2kfra8p0\\localcache\\local-packages\\python311\\site-packages (from selenium) (4.11.0)\n",
      "Requirement already satisfied: websocket-client~=1.8 in c:\\users\\jrnee\\appdata\\local\\packages\\pythonsoftwarefoundation.python.3.11_qbz5n2kfra8p0\\localcache\\local-packages\\python311\\site-packages (from selenium) (1.8.0)\n",
      "Requirement already satisfied: soupsieve>1.2 in c:\\users\\jrnee\\appdata\\local\\packages\\pythonsoftwarefoundation.python.3.11_qbz5n2kfra8p0\\localcache\\local-packages\\python311\\site-packages (from beautifulsoup4) (2.6)\n",
      "Requirement already satisfied: charset-normalizer<4,>=2 in c:\\users\\jrnee\\appdata\\local\\packages\\pythonsoftwarefoundation.python.3.11_qbz5n2kfra8p0\\localcache\\local-packages\\python311\\site-packages (from requests) (3.3.2)\n",
      "Requirement already satisfied: idna<4,>=2.5 in c:\\users\\jrnee\\appdata\\local\\packages\\pythonsoftwarefoundation.python.3.11_qbz5n2kfra8p0\\localcache\\local-packages\\python311\\site-packages (from requests) (3.6)\n",
      "Requirement already satisfied: python-dotenv in c:\\users\\jrnee\\appdata\\local\\packages\\pythonsoftwarefoundation.python.3.11_qbz5n2kfra8p0\\localcache\\local-packages\\python311\\site-packages (from webdriver-manager) (1.0.1)\n",
      "Requirement already satisfied: packaging in c:\\users\\jrnee\\appdata\\local\\packages\\pythonsoftwarefoundation.python.3.11_qbz5n2kfra8p0\\localcache\\local-packages\\python311\\site-packages (from webdriver-manager) (23.2)\n",
      "Requirement already satisfied: attrs>=23.2.0 in c:\\users\\jrnee\\appdata\\local\\packages\\pythonsoftwarefoundation.python.3.11_qbz5n2kfra8p0\\localcache\\local-packages\\python311\\site-packages (from trio~=0.17->selenium) (23.2.0)\n",
      "Requirement already satisfied: sortedcontainers in c:\\users\\jrnee\\appdata\\local\\packages\\pythonsoftwarefoundation.python.3.11_qbz5n2kfra8p0\\localcache\\local-packages\\python311\\site-packages (from trio~=0.17->selenium) (2.4.0)\n",
      "Requirement already satisfied: outcome in c:\\users\\jrnee\\appdata\\local\\packages\\pythonsoftwarefoundation.python.3.11_qbz5n2kfra8p0\\localcache\\local-packages\\python311\\site-packages (from trio~=0.17->selenium) (1.3.0.post0)\n",
      "Requirement already satisfied: sniffio>=1.3.0 in c:\\users\\jrnee\\appdata\\local\\packages\\pythonsoftwarefoundation.python.3.11_qbz5n2kfra8p0\\localcache\\local-packages\\python311\\site-packages (from trio~=0.17->selenium) (1.3.1)\n",
      "Requirement already satisfied: cffi>=1.14 in c:\\users\\jrnee\\appdata\\local\\packages\\pythonsoftwarefoundation.python.3.11_qbz5n2kfra8p0\\localcache\\local-packages\\python311\\site-packages (from trio~=0.17->selenium) (1.17.1)\n",
      "Requirement already satisfied: wsproto>=0.14 in c:\\users\\jrnee\\appdata\\local\\packages\\pythonsoftwarefoundation.python.3.11_qbz5n2kfra8p0\\localcache\\local-packages\\python311\\site-packages (from trio-websocket~=0.9->selenium) (1.2.0)\n",
      "Requirement already satisfied: pysocks!=1.5.7,<2.0,>=1.5.6 in c:\\users\\jrnee\\appdata\\local\\packages\\pythonsoftwarefoundation.python.3.11_qbz5n2kfra8p0\\localcache\\local-packages\\python311\\site-packages (from urllib3[socks]<3,>=1.26->selenium) (1.7.1)\n",
      "Requirement already satisfied: pycparser in c:\\users\\jrnee\\appdata\\local\\packages\\pythonsoftwarefoundation.python.3.11_qbz5n2kfra8p0\\localcache\\local-packages\\python311\\site-packages (from cffi>=1.14->trio~=0.17->selenium) (2.22)\n",
      "Requirement already satisfied: h11<1,>=0.9.0 in c:\\users\\jrnee\\appdata\\local\\packages\\pythonsoftwarefoundation.python.3.11_qbz5n2kfra8p0\\localcache\\local-packages\\python311\\site-packages (from wsproto>=0.14->trio-websocket~=0.9->selenium) (0.14.0)\n"
     ]
    },
    {
     "name": "stderr",
     "output_type": "stream",
     "text": [
      "\n",
      "[notice] A new release of pip is available: 24.2 -> 24.3.1\n",
      "[notice] To update, run: C:\\Users\\jrnee\\AppData\\Local\\Microsoft\\WindowsApps\\PythonSoftwareFoundation.Python.3.11_qbz5n2kfra8p0\\python.exe -m pip install --upgrade pip\n"
     ]
    }
   ],
   "source": [
    "!pip install selenium beautifulsoup4 requests webdriver-manager"
   ]
  },
  {
   "cell_type": "code",
   "execution_count": 43,
   "metadata": {},
   "outputs": [],
   "source": [
    "import re\n",
    "import unicodedata\n",
    "import csv\n",
    "from selenium import webdriver\n",
    "from selenium.webdriver.common.by import By\n",
    "from selenium.webdriver.chrome.service import Service\n",
    "from webdriver_manager.chrome import ChromeDriverManager\n",
    "from bs4 import BeautifulSoup\n",
    "import time\n",
    "import requests\n",
    "import os\n"
   ]
  },
  {
   "cell_type": "markdown",
   "metadata": {},
   "source": [
    "<h3> URL 생성함수"
   ]
  },
  {
   "cell_type": "code",
   "execution_count": 44,
   "metadata": {},
   "outputs": [],
   "source": [
    "# URL 생성 함수\n",
    "def get_url(gender='', category=''):\n",
    "    base_url = 'https://www.musinsa.com/category'\n",
    "    params = {\n",
    "        'gf': gender,\n",
    "        'category': category\n",
    "    }\n",
    "    query_string = '&'.join([f\"{key}={value}\" for key, value in params.items() if value])\n",
    "    return f\"{base_url}/{category}?{query_string}\"\n",
    "\n",
    "# 파일 이름 정리 함수\n",
    "def clean_filename(filename):\n",
    "    # Unicode 정규화 (한글 포함 문자 처리 안정성 향상)\n",
    "    filename = unicodedata.normalize('NFC', filename)\n",
    "    # 파일 이름에 허용되지 않는 문자 제거\n",
    "    filename = re.sub(r'[\\/:*?\"<>|]', '_', filename)\n",
    "    # 공백과 특수 문자 제거\n",
    "    filename = re.sub(r'[\\n\\r\\t]', '', filename)\n",
    "    return filename.strip()"
   ]
  },
  {
   "cell_type": "markdown",
   "metadata": {},
   "source": [
    "<h3> 이미지 크롤링"
   ]
  },
  {
   "cell_type": "code",
   "execution_count": 45,
   "metadata": {},
   "outputs": [],
   "source": [
    "# 이미지 크롤링 함수\n",
    "def crawl_images(driver, gender, category, csv_writer):\n",
    "    # 성별 및 카테고리 이름 매핑\n",
    "    gender_map = {'M': '남성', 'F': '여성'}\n",
    "    category_map = {'002022': '후드집업', '003002': '데님팬츠', '002007': '코트'}\n",
    "\n",
    "    gender_name = gender_map.get(gender, gender)\n",
    "    category_name = category_map.get(category, category)\n",
    "\n",
    "    # 스크롤 설정\n",
    "    scroll_pause_time = 2\n",
    "    screen_height = driver.execute_script(\"return window.screen.height;\")\n",
    "    i = 1\n",
    "\n",
    "    downloaded_count = 0\n",
    "    max_downloads = 3  # 최대 다운로드 수 설정\n",
    "\n",
    "    # 저장 디렉토리 생성\n",
    "    base_dir = \"C:\\\\Users\\\\jrnee\\\\Desktop\\\\무신사크롤링\"\n",
    "    output_dir = os.path.join(base_dir, gender_name, category_name)\n",
    "    os.makedirs(output_dir, exist_ok=True)\n",
    "\n",
    "    while downloaded_count < max_downloads:\n",
    "        driver.execute_script(f\"window.scrollTo(0, {screen_height}*{i});\")\n",
    "        time.sleep(scroll_pause_time)\n",
    "        new_height = driver.execute_script(\"return document.body.scrollHeight;\")\n",
    "        if new_height == screen_height * i:\n",
    "            break\n",
    "        i += 1\n",
    "\n",
    "        html = driver.page_source\n",
    "        soup = BeautifulSoup(html, 'html.parser')\n",
    "\n",
    "        # 상품 목록 추출\n",
    "        product_elements = soup.select('a[aria-label=\"상품 상세로 이동\"]')\n",
    "        for product_element in product_elements:\n",
    "            try:\n",
    "                # 상품 상세 페이지 URL\n",
    "                href = product_element.get('href')\n",
    "                if href.startswith('http'):  # 절대 경로인 경우\n",
    "                    detail_url = href\n",
    "                else:  # 상대 경로인 경우\n",
    "                    detail_url = f\"https://www.musinsa.com{href}\"\n",
    "\n",
    "                # 이미지 태그 추출\n",
    "                img_tag = product_element.select_one('img')\n",
    "                if not img_tag:\n",
    "                    continue\n",
    "\n",
    "                img_url = img_tag.get('src')\n",
    "                raw_img_name = img_tag.get('alt', 'unknown')\n",
    "                \n",
    "                # 파일 이름 정리\n",
    "                img_name = clean_filename(raw_img_name)\n",
    "                \n",
    "                # 이름이 유효하지 않은 경우 기본값 설정\n",
    "                if not img_name.strip():\n",
    "                    img_name = f\"image_{downloaded_count}\"\n",
    "\n",
    "                if not img_url or not img_name:\n",
    "                    continue\n",
    "\n",
    "                if downloaded_count >= max_downloads:\n",
    "                    print(f\"Downloaded {downloaded_count} images. Stopping further downloads.\")\n",
    "                    return\n",
    "\n",
    "                # 이미지 다운로드\n",
    "                img_response = requests.get(img_url)\n",
    "                img_path = os.path.join(output_dir, f\"{img_name}.jpg\")\n",
    "                with open(img_path, 'wb') as f:\n",
    "                    f.write(img_response.content)\n",
    "\n",
    "                # CSV 파일에 기록\n",
    "                csv_writer.writerow([img_name, detail_url])\n",
    "                downloaded_count += 1\n",
    "\n",
    "                print(f\"Downloaded: {img_name}, Detail URL: {detail_url}\")\n",
    "            except Exception as e:\n",
    "                print(f\"Failed to process product: {e}\")\n",
    "\n",
    "    print(f\"Downloaded {downloaded_count} images to {output_dir}\")"
   ]
  },
  {
   "cell_type": "markdown",
   "metadata": {},
   "source": [
    "<h3> 크롤링 시작"
   ]
  },
  {
   "cell_type": "code",
   "execution_count": 46,
   "metadata": {},
   "outputs": [
    {
     "name": "stdout",
     "output_type": "stream",
     "text": [
      "Generated URL: https://www.musinsa.com/category/002022?gf=M&category=002022\n",
      "Downloaded: 데님 워싱 후드 집업 인디고, Detail URL: https://www.musinsa.com/products/3439576\n",
      "Downloaded: 루트 썬그립 바람막이 Navy (S23MURWB22), Detail URL: https://www.musinsa.com/products/3030990\n",
      "Downloaded: 데님 워싱 후드 집업 차콜, Detail URL: https://www.musinsa.com/products/3439575\n",
      "Downloaded 3 images. Stopping further downloads.\n",
      "Generated URL: https://www.musinsa.com/category/003002?gf=M&category=003002\n",
      "Downloaded: 씬핀 Dry selvage comfort _ 111868, Detail URL: https://www.musinsa.com/products/4324275\n",
      "Downloaded: Sleepy Sixten Joey Replica _ 112947, Detail URL: https://www.musinsa.com/products/4324209\n",
      "Downloaded: 그림팀 David Replica _ 112375, Detail URL: https://www.musinsa.com/products/4324264\n",
      "Downloaded 3 images. Stopping further downloads.\n",
      "Generated URL: https://www.musinsa.com/category/002007?gf=M&category=002007\n",
      "Downloaded: 울 블렌드 오버사이즈 머프 발마칸 코트 [차콜 그레이], Detail URL: https://www.musinsa.com/products/4209270\n",
      "Downloaded: 캐시미어 히든 싱글 코트_BLACK, Detail URL: https://www.musinsa.com/products/2817464\n",
      "Downloaded: 두굿_캐시미어싱글코트 - 3color MXCA7101, Detail URL: https://www.musinsa.com/products/4438119\n",
      "Downloaded 3 images. Stopping further downloads.\n",
      "Generated URL: https://www.musinsa.com/category/002022?gf=F&category=002022\n",
      "Downloaded: 우먼즈 슬림 크롭 피그먼트 코르셋 후드집업 차콜, Detail URL: https://www.musinsa.com/products/3475125\n",
      "Downloaded: 가먼트 다잉 에센셜 후드 집업 (워시드차콜), Detail URL: https://www.musinsa.com/products/4361563\n",
      "Downloaded: (우먼) 로즈 크롭 후드 집업_민트베이지, Detail URL: https://www.musinsa.com/products/3756140\n",
      "Downloaded 3 images. Stopping further downloads.\n",
      "Generated URL: https://www.musinsa.com/category/003002?gf=F&category=003002\n",
      "Downloaded: 웨스트워드 컬러포인트 데님 팬츠, Detail URL: https://www.musinsa.com/products/2836979\n",
      "Downloaded: 슬림스트레이트 데님 팬츠 (롱버전) 414552 [2color], Detail URL: https://www.musinsa.com/products/3828120\n",
      "Downloaded: Destroyed Denim Pants (light indigo), Detail URL: https://www.musinsa.com/products/3803470\n",
      "Downloaded 3 images. Stopping further downloads.\n",
      "Generated URL: https://www.musinsa.com/category/002007?gf=F&category=002007\n",
      "Downloaded: HALF RAGLAN WOOL COAT, CHARCOAL, Detail URL: https://www.musinsa.com/products/4507481\n",
      "Downloaded: 울리치 트렌치 맥코트_Fog Gray, Detail URL: https://www.musinsa.com/products/4476479\n",
      "Downloaded: 울리치 트렌치 맥코트_Oatmeal, Detail URL: https://www.musinsa.com/products/4476487\n",
      "Downloaded 3 images. Stopping further downloads.\n"
     ]
    }
   ],
   "source": [
    "# 메인 함수\n",
    "def main():\n",
    "    genders = ['M', 'F']  # 성별 리스트 (M: 남성, F: 여성)\n",
    "    categories = ['002022', '003002', '002007']  # 카테고리 리스트 (002022: 후드집업, 003002: 데님팬츠, 002007: 코트)\n",
    "\n",
    "    # CSV 파일 생성\n",
    "    csv_file_path = \"C:\\\\Users\\\\jrnee\\\\Desktop\\\\무신사크롤링\\\\musinsa_data.csv\"\n",
    "    with open(csv_file_path, mode='w', newline='', encoding='utf-8-sig') as csv_file:  # utf-8-sig 적용\n",
    "        csv_writer = csv.writer(csv_file)\n",
    "        # CSV 헤더 작성\n",
    "        csv_writer.writerow([\"Image Name\", \"Product Detail URL\"])\n",
    "\n",
    "        # 웹 드라이버 설정\n",
    "        driver = webdriver.Chrome(service=Service(ChromeDriverManager().install()))\n",
    "\n",
    "        try:\n",
    "            for gender in genders:\n",
    "                for category in categories:\n",
    "                    url = get_url(gender=gender, category=category)\n",
    "                    print(f\"Generated URL: {url}\")\n",
    "                    driver.get(url)\n",
    "                    crawl_images(driver, gender, category, csv_writer)\n",
    "        finally:\n",
    "            driver.quit()\n",
    "\n",
    "if __name__ == \"__main__\":\n",
    "    main()"
   ]
  },
  {
   "cell_type": "markdown",
   "metadata": {},
   "source": [
    "<h3>Done!!"
   ]
  }
 ],
 "metadata": {
  "kernelspec": {
   "display_name": "Python 3",
   "language": "python",
   "name": "python3"
  },
  "language_info": {
   "codemirror_mode": {
    "name": "ipython",
    "version": 3
   },
   "file_extension": ".py",
   "mimetype": "text/x-python",
   "name": "python",
   "nbconvert_exporter": "python",
   "pygments_lexer": "ipython3",
   "version": "3.11.9"
  }
 },
 "nbformat": 4,
 "nbformat_minor": 2
}
