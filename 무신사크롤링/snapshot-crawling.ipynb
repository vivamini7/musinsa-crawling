{
 "cells": [
  {
   "cell_type": "markdown",
   "metadata": {},
   "source": [
    "<h3>1. 필요한 패기지 INSTALL"
   ]
  },
  {
   "cell_type": "code",
   "execution_count": 1,
   "metadata": {},
   "outputs": [
    {
     "name": "stdout",
     "output_type": "stream",
     "text": [
      "Requirement already satisfied: selenium in c:\\users\\jrnee\\appdata\\local\\packages\\pythonsoftwarefoundation.python.3.11_qbz5n2kfra8p0\\localcache\\local-packages\\python311\\site-packages (4.25.0)"
     ]
    },
    {
     "name": "stderr",
     "output_type": "stream",
     "text": [
      "\n",
      "[notice] A new release of pip is available: 24.2 -> 24.3.1\n",
      "[notice] To update, run: C:\\Users\\jrnee\\AppData\\Local\\Microsoft\\WindowsApps\\PythonSoftwareFoundation.Python.3.11_qbz5n2kfra8p0\\python.exe -m pip install --upgrade pip\n"
     ]
    },
    {
     "name": "stdout",
     "output_type": "stream",
     "text": [
      "\n",
      "Requirement already satisfied: beautifulsoup4 in c:\\users\\jrnee\\appdata\\local\\packages\\pythonsoftwarefoundation.python.3.11_qbz5n2kfra8p0\\localcache\\local-packages\\python311\\site-packages (4.12.3)\n",
      "Requirement already satisfied: requests in c:\\users\\jrnee\\appdata\\local\\packages\\pythonsoftwarefoundation.python.3.11_qbz5n2kfra8p0\\localcache\\local-packages\\python311\\site-packages (2.31.0)\n",
      "Collecting webdriver-manager\n",
      "  Downloading webdriver_manager-4.0.2-py2.py3-none-any.whl.metadata (12 kB)\n",
      "Requirement already satisfied: urllib3<3,>=1.26 in c:\\users\\jrnee\\appdata\\local\\packages\\pythonsoftwarefoundation.python.3.11_qbz5n2kfra8p0\\localcache\\local-packages\\python311\\site-packages (from urllib3[socks]<3,>=1.26->selenium) (2.2.2)\n",
      "Requirement already satisfied: trio~=0.17 in c:\\users\\jrnee\\appdata\\local\\packages\\pythonsoftwarefoundation.python.3.11_qbz5n2kfra8p0\\localcache\\local-packages\\python311\\site-packages (from selenium) (0.26.2)\n",
      "Requirement already satisfied: trio-websocket~=0.9 in c:\\users\\jrnee\\appdata\\local\\packages\\pythonsoftwarefoundation.python.3.11_qbz5n2kfra8p0\\localcache\\local-packages\\python311\\site-packages (from selenium) (0.11.1)\n",
      "Requirement already satisfied: certifi>=2021.10.8 in c:\\users\\jrnee\\appdata\\local\\packages\\pythonsoftwarefoundation.python.3.11_qbz5n2kfra8p0\\localcache\\local-packages\\python311\\site-packages (from selenium) (2024.2.2)\n",
      "Requirement already satisfied: typing_extensions~=4.9 in c:\\users\\jrnee\\appdata\\local\\packages\\pythonsoftwarefoundation.python.3.11_qbz5n2kfra8p0\\localcache\\local-packages\\python311\\site-packages (from selenium) (4.11.0)\n",
      "Requirement already satisfied: websocket-client~=1.8 in c:\\users\\jrnee\\appdata\\local\\packages\\pythonsoftwarefoundation.python.3.11_qbz5n2kfra8p0\\localcache\\local-packages\\python311\\site-packages (from selenium) (1.8.0)\n",
      "Requirement already satisfied: soupsieve>1.2 in c:\\users\\jrnee\\appdata\\local\\packages\\pythonsoftwarefoundation.python.3.11_qbz5n2kfra8p0\\localcache\\local-packages\\python311\\site-packages (from beautifulsoup4) (2.6)\n",
      "Requirement already satisfied: charset-normalizer<4,>=2 in c:\\users\\jrnee\\appdata\\local\\packages\\pythonsoftwarefoundation.python.3.11_qbz5n2kfra8p0\\localcache\\local-packages\\python311\\site-packages (from requests) (3.3.2)\n",
      "Requirement already satisfied: idna<4,>=2.5 in c:\\users\\jrnee\\appdata\\local\\packages\\pythonsoftwarefoundation.python.3.11_qbz5n2kfra8p0\\localcache\\local-packages\\python311\\site-packages (from requests) (3.6)\n",
      "Requirement already satisfied: python-dotenv in c:\\users\\jrnee\\appdata\\local\\packages\\pythonsoftwarefoundation.python.3.11_qbz5n2kfra8p0\\localcache\\local-packages\\python311\\site-packages (from webdriver-manager) (1.0.1)\n",
      "Requirement already satisfied: packaging in c:\\users\\jrnee\\appdata\\local\\packages\\pythonsoftwarefoundation.python.3.11_qbz5n2kfra8p0\\localcache\\local-packages\\python311\\site-packages (from webdriver-manager) (23.2)\n",
      "Requirement already satisfied: attrs>=23.2.0 in c:\\users\\jrnee\\appdata\\local\\packages\\pythonsoftwarefoundation.python.3.11_qbz5n2kfra8p0\\localcache\\local-packages\\python311\\site-packages (from trio~=0.17->selenium) (23.2.0)\n",
      "Requirement already satisfied: sortedcontainers in c:\\users\\jrnee\\appdata\\local\\packages\\pythonsoftwarefoundation.python.3.11_qbz5n2kfra8p0\\localcache\\local-packages\\python311\\site-packages (from trio~=0.17->selenium) (2.4.0)\n",
      "Requirement already satisfied: outcome in c:\\users\\jrnee\\appdata\\local\\packages\\pythonsoftwarefoundation.python.3.11_qbz5n2kfra8p0\\localcache\\local-packages\\python311\\site-packages (from trio~=0.17->selenium) (1.3.0.post0)\n",
      "Requirement already satisfied: sniffio>=1.3.0 in c:\\users\\jrnee\\appdata\\local\\packages\\pythonsoftwarefoundation.python.3.11_qbz5n2kfra8p0\\localcache\\local-packages\\python311\\site-packages (from trio~=0.17->selenium) (1.3.1)\n",
      "Requirement already satisfied: cffi>=1.14 in c:\\users\\jrnee\\appdata\\local\\packages\\pythonsoftwarefoundation.python.3.11_qbz5n2kfra8p0\\localcache\\local-packages\\python311\\site-packages (from trio~=0.17->selenium) (1.17.1)\n",
      "Requirement already satisfied: wsproto>=0.14 in c:\\users\\jrnee\\appdata\\local\\packages\\pythonsoftwarefoundation.python.3.11_qbz5n2kfra8p0\\localcache\\local-packages\\python311\\site-packages (from trio-websocket~=0.9->selenium) (1.2.0)\n",
      "Requirement already satisfied: pysocks!=1.5.7,<2.0,>=1.5.6 in c:\\users\\jrnee\\appdata\\local\\packages\\pythonsoftwarefoundation.python.3.11_qbz5n2kfra8p0\\localcache\\local-packages\\python311\\site-packages (from urllib3[socks]<3,>=1.26->selenium) (1.7.1)\n",
      "Requirement already satisfied: pycparser in c:\\users\\jrnee\\appdata\\local\\packages\\pythonsoftwarefoundation.python.3.11_qbz5n2kfra8p0\\localcache\\local-packages\\python311\\site-packages (from cffi>=1.14->trio~=0.17->selenium) (2.22)\n",
      "Requirement already satisfied: h11<1,>=0.9.0 in c:\\users\\jrnee\\appdata\\local\\packages\\pythonsoftwarefoundation.python.3.11_qbz5n2kfra8p0\\localcache\\local-packages\\python311\\site-packages (from wsproto>=0.14->trio-websocket~=0.9->selenium) (0.14.0)\n",
      "Downloading webdriver_manager-4.0.2-py2.py3-none-any.whl (27 kB)\n",
      "Installing collected packages: webdriver-manager\n",
      "Successfully installed webdriver-manager-4.0.2\n"
     ]
    }
   ],
   "source": [
    "!pip install selenium beautifulsoup4 requests webdriver-manager"
   ]
  },
  {
   "cell_type": "markdown",
   "metadata": {},
   "source": [
    "<h3>2. 패키지 IMPORT"
   ]
  },
  {
   "cell_type": "code",
   "execution_count": 23,
   "metadata": {},
   "outputs": [],
   "source": [
    "from selenium import webdriver\n",
    "from selenium.webdriver.common.by import By\n",
    "from selenium.webdriver.chrome.service import Service\n",
    "from webdriver_manager.chrome import ChromeDriverManager\n",
    "from bs4 import BeautifulSoup\n",
    "import time\n",
    "import requests\n",
    "import os"
   ]
  },
  {
   "cell_type": "markdown",
   "metadata": {},
   "source": [
    "<h3>3. URL 설정 함수"
   ]
  },
  {
   "cell_type": "code",
   "execution_count": 24,
   "metadata": {},
   "outputs": [],
   "source": [
    "# URL을 생성하는 함수\n",
    "def get_url(gender='', season='', style='', category=''):\n",
    "    base_url = 'https://www.musinsa.com/snap/main/recommend'\n",
    "    params = {\n",
    "        'genders': gender,\n",
    "        'seasons': season,\n",
    "        'styles': style,\n",
    "        'category': category\n",
    "    }\n",
    "    query_string = '&'.join([f\"{key}={value}\" for key, value in params.items() if value])\n",
    "    return f\"{base_url}?{query_string}\""
   ]
  },
  {
   "cell_type": "markdown",
   "metadata": {},
   "source": [
    "<h3>4. 이미지 크롤링 함수"
   ]
  },
  {
   "cell_type": "code",
   "execution_count": 28,
   "metadata": {},
   "outputs": [],
   "source": [
    "# 설정된 URL에서 이미지를 크롤링하고 다운로드하는 함수\n",
    "def crawl_images(driver, gender, season, style, category):\n",
    "    # 성별, 계절, 스타일, 카테고리 이름 매핑\n",
    "    gender_map = {'MEN': '남', 'WOMEN': '여'}\n",
    "    season_map = {'1': '봄', '3': '여름', '2': '가을', '4': '겨울'}\n",
    "    style_map = {\n",
    "        '8': '캐주얼', '10': '스트릿', '5': '미니멀', '14': '스포티', '9': '클래식',\n",
    "        '16': '시크', '20': '고프코어', '7': '시티보이', '18': '레트로', '15': '리조트',\n",
    "        '17': '프레피', '19': '에스닉', '12': '로맨틱', '6': '워크웨어', '13': '걸러시'\n",
    "    }\n",
    "    category_map = {'003002': '데님팬츠', '002022': '후드집업', '002007': '코트'}\n",
    "\n",
    "    # 폴더 이름 생성\n",
    "    gender_name = gender_map.get(gender, gender)\n",
    "    season_name = season_map.get(season, season)\n",
    "    style_name = style_map.get(style, style)\n",
    "    category_name = category_map.get(category, category)\n",
    "\n",
    "    # 스크롤 시뮬레이션\n",
    "    scroll_pause_time = 2\n",
    "    screen_height = driver.execute_script(\"return window.screen.height;\")\n",
    "    i = 1\n",
    "\n",
    "    downloaded_count = 0\n",
    "    max_downloads = 10\n",
    "\n",
    "    # 저장 디렉토리 생성 (C:\\Users\\jrnee\\Desktop\\무신사크롤링\\ 성별/계절/스타일/카테고리 구조)\n",
    "    base_dir = \"C:\\\\Users\\\\jrnee\\\\Desktop\\\\무신사크롤링\"\n",
    "    output_dir = os.path.join(base_dir, gender_name, season_name, style_name, category_name)\n",
    "    os.makedirs(output_dir, exist_ok=True)\n",
    "\n",
    "    while downloaded_count < max_downloads:\n",
    "        driver.execute_script(f\"window.scrollTo(0, {screen_height}*{i});\")\n",
    "        time.sleep(scroll_pause_time)\n",
    "        new_height = driver.execute_script(\"return document.body.scrollHeight;\")\n",
    "        if new_height == screen_height * i:\n",
    "            break\n",
    "        i += 1\n",
    "\n",
    "        html = driver.page_source\n",
    "        soup = BeautifulSoup(html, 'html.parser')\n",
    "\n",
    "        # 이미지 URL 추출\n",
    "        images = soup.select('img.max-w-full.w-full.absolute.m-auto.inset-0.h-auto.z-0.visible.object-cover')\n",
    "        image_urls = [img['src'] for img in images]\n",
    "\n",
    "        # 이미지 다운로드\n",
    "        for img_url in image_urls:\n",
    "            if downloaded_count >= max_downloads:  # 전체 다운로드 수 제한\n",
    "                print(f\"Downloaded {downloaded_count} images. Stopping further downloads.\")\n",
    "                return\n",
    "            img_name = os.path.basename(img_url.split('?')[0])  # URL에서 쿼리 스트링 제거\n",
    "            img_response = requests.get(img_url)\n",
    "            with open(os.path.join(output_dir, img_name), 'wb') as f:\n",
    "                f.write(img_response.content)\n",
    "            downloaded_count += 1\n",
    "\n",
    "    print(f\"Downloaded {downloaded_count} images to {output_dir}\")"
   ]
  },
  {
   "cell_type": "markdown",
   "metadata": {},
   "source": [
    "<h3>5. 크롤링 실행"
   ]
  },
  {
   "cell_type": "code",
   "execution_count": 31,
   "metadata": {},
   "outputs": [],
   "source": [
    "# 크롤링 실행\n",
    "def main():\n",
    "    genders = ['MEN', 'WOMEN']  # 성별 리스트\n",
    "    season = '4'  # 계절 고정 (4: 겨울)\n",
    "    styles = ['8', '10', '5', '14', '9', '16', '20', '17', '19', '15', '18', '7', '12', '6', '13']  # 스타일 리스트\n",
    "    categories = ['002022', '003002', '002007'] # 카테고리 (003002: 데님팬츠츠)\n",
    "\n",
    "    # 웹 드라이버 설정\n",
    "    driver = webdriver.Chrome(service=Service(ChromeDriverManager().install()))\n",
    "\n",
    "    try:\n",
    "        for gender in genders:\n",
    "            for style in styles:\n",
    "                for category in categories:\n",
    "                    url = get_url(gender=gender, season=season, style=style, category=category)\n",
    "                    print(f\"Generated URL: {url}\")\n",
    "                    driver.get(url)\n",
    "                    crawl_images(driver, gender, season, style, category)\n",
    "    finally:\n",
    "        driver.quit()"
   ]
  },
  {
   "cell_type": "code",
   "execution_count": 32,
   "metadata": {},
   "outputs": [
    {
     "name": "stdout",
     "output_type": "stream",
     "text": [
      "Generated URL: https://www.musinsa.com/snap/main/recommend?genders=MEN&seasons=4&styles=8&category=002022\n",
      "Downloaded 10 images. Stopping further downloads.\n",
      "Generated URL: https://www.musinsa.com/snap/main/recommend?genders=MEN&seasons=4&styles=8&category=003002\n",
      "Downloaded 10 images. Stopping further downloads.\n",
      "Generated URL: https://www.musinsa.com/snap/main/recommend?genders=MEN&seasons=4&styles=8&category=002007\n",
      "Downloaded 10 images. Stopping further downloads.\n",
      "Generated URL: https://www.musinsa.com/snap/main/recommend?genders=MEN&seasons=4&styles=10&category=002022\n",
      "Downloaded 10 images. Stopping further downloads.\n",
      "Generated URL: https://www.musinsa.com/snap/main/recommend?genders=MEN&seasons=4&styles=10&category=003002\n",
      "Downloaded 10 images. Stopping further downloads.\n",
      "Generated URL: https://www.musinsa.com/snap/main/recommend?genders=MEN&seasons=4&styles=10&category=002007\n",
      "Downloaded 10 images. Stopping further downloads.\n",
      "Generated URL: https://www.musinsa.com/snap/main/recommend?genders=MEN&seasons=4&styles=5&category=002022\n",
      "Downloaded 10 images. Stopping further downloads.\n",
      "Generated URL: https://www.musinsa.com/snap/main/recommend?genders=MEN&seasons=4&styles=5&category=003002\n",
      "Downloaded 10 images. Stopping further downloads.\n",
      "Generated URL: https://www.musinsa.com/snap/main/recommend?genders=MEN&seasons=4&styles=5&category=002007\n",
      "Downloaded 10 images. Stopping further downloads.\n",
      "Generated URL: https://www.musinsa.com/snap/main/recommend?genders=MEN&seasons=4&styles=14&category=002022\n",
      "Downloaded 10 images. Stopping further downloads.\n",
      "Generated URL: https://www.musinsa.com/snap/main/recommend?genders=MEN&seasons=4&styles=14&category=003002\n",
      "Downloaded 10 images. Stopping further downloads.\n",
      "Generated URL: https://www.musinsa.com/snap/main/recommend?genders=MEN&seasons=4&styles=14&category=002007\n",
      "Downloaded 10 images. Stopping further downloads.\n",
      "Generated URL: https://www.musinsa.com/snap/main/recommend?genders=MEN&seasons=4&styles=9&category=002022\n",
      "Downloaded 10 images. Stopping further downloads.\n",
      "Generated URL: https://www.musinsa.com/snap/main/recommend?genders=MEN&seasons=4&styles=9&category=003002\n",
      "Downloaded 10 images. Stopping further downloads.\n",
      "Generated URL: https://www.musinsa.com/snap/main/recommend?genders=MEN&seasons=4&styles=9&category=002007\n",
      "Downloaded 10 images. Stopping further downloads.\n",
      "Generated URL: https://www.musinsa.com/snap/main/recommend?genders=MEN&seasons=4&styles=16&category=002022\n"
     ]
    },
    {
     "ename": "KeyboardInterrupt",
     "evalue": "",
     "output_type": "error",
     "traceback": [
      "\u001b[1;31m---------------------------------------------------------------------------\u001b[0m",
      "\u001b[1;31mKeyboardInterrupt\u001b[0m                         Traceback (most recent call last)",
      "Cell \u001b[1;32mIn[32], line 2\u001b[0m\n\u001b[0;32m      1\u001b[0m \u001b[38;5;28;01mif\u001b[39;00m \u001b[38;5;18m__name__\u001b[39m \u001b[38;5;241m==\u001b[39m \u001b[38;5;124m\"\u001b[39m\u001b[38;5;124m__main__\u001b[39m\u001b[38;5;124m\"\u001b[39m:\n\u001b[1;32m----> 2\u001b[0m     \u001b[43mmain\u001b[49m\u001b[43m(\u001b[49m\u001b[43m)\u001b[49m\n",
      "Cell \u001b[1;32mIn[31], line 18\u001b[0m, in \u001b[0;36mmain\u001b[1;34m()\u001b[0m\n\u001b[0;32m     16\u001b[0m                 \u001b[38;5;28mprint\u001b[39m(\u001b[38;5;124mf\u001b[39m\u001b[38;5;124m\"\u001b[39m\u001b[38;5;124mGenerated URL: \u001b[39m\u001b[38;5;132;01m{\u001b[39;00murl\u001b[38;5;132;01m}\u001b[39;00m\u001b[38;5;124m\"\u001b[39m)\n\u001b[0;32m     17\u001b[0m                 driver\u001b[38;5;241m.\u001b[39mget(url)\n\u001b[1;32m---> 18\u001b[0m                 \u001b[43mcrawl_images\u001b[49m\u001b[43m(\u001b[49m\u001b[43mdriver\u001b[49m\u001b[43m,\u001b[49m\u001b[43m \u001b[49m\u001b[43mgender\u001b[49m\u001b[43m,\u001b[49m\u001b[43m \u001b[49m\u001b[43mseason\u001b[49m\u001b[43m,\u001b[49m\u001b[43m \u001b[49m\u001b[43mstyle\u001b[49m\u001b[43m,\u001b[49m\u001b[43m \u001b[49m\u001b[43mcategory\u001b[49m\u001b[43m)\u001b[49m\n\u001b[0;32m     19\u001b[0m \u001b[38;5;28;01mfinally\u001b[39;00m:\n\u001b[0;32m     20\u001b[0m     driver\u001b[38;5;241m.\u001b[39mquit()\n",
      "Cell \u001b[1;32mIn[28], line 34\u001b[0m, in \u001b[0;36mcrawl_images\u001b[1;34m(driver, gender, season, style, category)\u001b[0m\n\u001b[0;32m     32\u001b[0m \u001b[38;5;28;01mwhile\u001b[39;00m downloaded_count \u001b[38;5;241m<\u001b[39m max_downloads:\n\u001b[0;32m     33\u001b[0m     driver\u001b[38;5;241m.\u001b[39mexecute_script(\u001b[38;5;124mf\u001b[39m\u001b[38;5;124m\"\u001b[39m\u001b[38;5;124mwindow.scrollTo(0, \u001b[39m\u001b[38;5;132;01m{\u001b[39;00mscreen_height\u001b[38;5;132;01m}\u001b[39;00m\u001b[38;5;124m*\u001b[39m\u001b[38;5;132;01m{\u001b[39;00mi\u001b[38;5;132;01m}\u001b[39;00m\u001b[38;5;124m);\u001b[39m\u001b[38;5;124m\"\u001b[39m)\n\u001b[1;32m---> 34\u001b[0m     time\u001b[38;5;241m.\u001b[39msleep(scroll_pause_time)\n\u001b[0;32m     35\u001b[0m     new_height \u001b[38;5;241m=\u001b[39m driver\u001b[38;5;241m.\u001b[39mexecute_script(\u001b[38;5;124m\"\u001b[39m\u001b[38;5;124mreturn document.body.scrollHeight;\u001b[39m\u001b[38;5;124m\"\u001b[39m)\n\u001b[0;32m     36\u001b[0m     \u001b[38;5;28;01mif\u001b[39;00m new_height \u001b[38;5;241m==\u001b[39m screen_height \u001b[38;5;241m*\u001b[39m i:\n",
      "\u001b[1;31mKeyboardInterrupt\u001b[0m: "
     ]
    }
   ],
   "source": [
    "if __name__ == \"__main__\":\n",
    "    main()\n",
    "    "
   ]
  },
  {
   "cell_type": "markdown",
   "metadata": {},
   "source": [
    "<h2>Done"
   ]
  }
 ],
 "metadata": {
  "kernelspec": {
   "display_name": "Python 3",
   "language": "python",
   "name": "python3"
  },
  "language_info": {
   "codemirror_mode": {
    "name": "ipython",
    "version": 3
   },
   "file_extension": ".py",
   "mimetype": "text/x-python",
   "name": "python",
   "nbconvert_exporter": "python",
   "pygments_lexer": "ipython3",
   "version": "3.11.9"
  }
 },
 "nbformat": 4,
 "nbformat_minor": 2
}
